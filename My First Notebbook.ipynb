{
 "cells": [
  {
   "cell_type": "code",
   "execution_count": 1,
   "id": "d339d1c2-be57-422d-a88f-6946b997e081",
   "metadata": {},
   "outputs": [
    {
     "name": "stdin",
     "output_type": "stream",
     "text": [
      "What is your name:  Joel\n"
     ]
    },
    {
     "name": "stdout",
     "output_type": "stream",
     "text": [
      "Joel\n"
     ]
    }
   ],
   "source": [
    "name = input (\"What is your name: \")\n",
    "print(name)"
   ]
  },
  {
   "cell_type": "code",
   "execution_count": 2,
   "id": "200b4a7c-c75d-4662-9060-7d610b7a32a9",
   "metadata": {},
   "outputs": [
    {
     "name": "stdout",
     "output_type": "stream",
     "text": [
      "Joel is 35 years old\n"
     ]
    }
   ],
   "source": [
    "age = 35\n",
    "name = \"Joel\"\n",
    "\n",
    "print(f\"{name} is {age} years old\") "
   ]
  },
  {
   "cell_type": "code",
   "execution_count": 3,
   "id": "67266520-3f39-4b85-b31d-8e9e8d70ea4a",
   "metadata": {},
   "outputs": [
    {
     "name": "stdout",
     "output_type": "stream",
     "text": [
      "Gift\n"
     ]
    }
   ],
   "source": [
    "student = \"Gift\"\n",
    "print(student)"
   ]
  },
  {
   "cell_type": "code",
   "execution_count": 4,
   "id": "0359ce44-b3fc-4434-9a07-07602f2f1054",
   "metadata": {},
   "outputs": [
    {
     "name": "stdout",
     "output_type": "stream",
     "text": [
      "Hello, Cypher!\n"
     ]
    }
   ],
   "source": [
    "#Defining variable name (a second name I defined: Cypher) and inserting a greeting at the beginning and an exclamation mark at the end. \n",
    "\n",
    "name2 = \"Cypher\"\n",
    "\n",
    "print(f\"Hello, {name2}!\")"
   ]
  },
  {
   "cell_type": "code",
   "execution_count": 5,
   "id": "95497970-bb28-45f5-95eb-27914e550db5",
   "metadata": {},
   "outputs": [
    {
     "name": "stdout",
     "output_type": "stream",
     "text": [
      "68°F is equal to 20.0°C\n"
     ]
    }
   ],
   "source": [
    "#Defining a Fahrenheit_temp variable to Celsius_temp equivalent\n",
    "\n",
    "Fahrenheit = 68\n",
    "Celsius = (Fahrenheit-32)/1.8\n",
    "print(f\"{Fahrenheit}°F is equal to {Celsius}°C\")"
   ]
  },
  {
   "cell_type": "code",
   "execution_count": 6,
   "id": "7dbbc3a7-77da-42bc-9078-e4d92890b14e",
   "metadata": {},
   "outputs": [
    {
     "name": "stdout",
     "output_type": "stream",
     "text": [
      "45°F is equal to 7.22°C\n"
     ]
    }
   ],
   "source": [
    "#Defining a Fahrenheit_temp variable to Celsius_temp equivalent and rounding off floating value to 2d.p\n",
    "\n",
    "Fahrenheit = 45\n",
    "Celsius = round((Fahrenheit-32)/1.8,2)\n",
    "print(f\"{Fahrenheit}°F is equal to {Celsius}°C\")"
   ]
  },
  {
   "cell_type": "code",
   "execution_count": 7,
   "id": "a13bd25d-e257-4953-a170-7722866e2b69",
   "metadata": {},
   "outputs": [
    {
     "name": "stdout",
     "output_type": "stream",
     "text": [
      "73°F is equal to 22°C\n"
     ]
    }
   ],
   "source": [
    "#Defining a Fahrenheit_temp variable to Celsius_temp equivalent and rounding down using the floor division function\n",
    "\n",
    "Fahrenheit = 73\n",
    "Celsius = round((Fahrenheit-32)//1.8)\n",
    "print(f\"{Fahrenheit}°F is equal to {Celsius}°C\")"
   ]
  },
  {
   "cell_type": "code",
   "execution_count": 44,
   "id": "f69ec569-1057-4161-9cd3-fcb77efa4419",
   "metadata": {},
   "outputs": [
    {
     "name": "stdout",
     "output_type": "stream",
     "text": [
      "Good\n"
     ]
    }
   ],
   "source": [
    "#Python program for students' performance category\n",
    "\n",
    "score = 80\n",
    "\n",
    "if score>= 90:\n",
    "    print(\"Excellent\") #90 = \"Excellent\"\n",
    "elif score>= 70 and score<= 89:\n",
    "    print(\"Good\") #70-89 = \"Good\"\n",
    "elif score>= 50 and score<= 69:\n",
    "    print(\"Average\") #50-69 = \"Average\"\n",
    "elif score< 50:\n",
    "    print(\"Below Average\") #<50 = \"Below Average\""
   ]
  },
  {
   "cell_type": "code",
   "execution_count": null,
   "id": "d01add0e-161a-4d66-870e-de7b714fb3b3",
   "metadata": {},
   "outputs": [],
   "source": [
    "#Python program for students' performance category with score box prompt\n",
    "\n",
    "score = input (\"What is your score: \")\n",
    "print(score)\n",
    "\n",
    "if score>= 90:\n",
    "    print(\"Excellent\") #90 = \"Excellent\"\n",
    "elif score>= 70 and score<= 89:\n",
    "    print(\"Good\") #70-89 = \"Good\"\n",
    "elif score>= 50 and score<= 69:\n",
    "    print(\"Average\") #50-69 = \"Average\"\n",
    "elif score< 50:\n",
    "    print(\"Below Average\") #<50 = \"Below Average\"\n",
    "    "
   ]
  }
 ],
 "metadata": {
  "kernelspec": {
   "display_name": "anaconda-panel-2023.05-py310",
   "language": "python",
   "name": "conda-env-anaconda-panel-2023.05-py310-py"
  },
  "language_info": {
   "codemirror_mode": {
    "name": "ipython",
    "version": 3
   },
   "file_extension": ".py",
   "mimetype": "text/x-python",
   "name": "python",
   "nbconvert_exporter": "python",
   "pygments_lexer": "ipython3",
   "version": "3.11.4"
  }
 },
 "nbformat": 4,
 "nbformat_minor": 5
}
